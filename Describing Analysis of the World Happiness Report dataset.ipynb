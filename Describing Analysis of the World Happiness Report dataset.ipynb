{
 "cells": [
  {
   "cell_type": "markdown",
   "id": "14d5257d-92f0-409f-9dcd-dee1b6395765",
   "metadata": {
    "tags": []
   },
   "source": [
    "###  Analysis of the World Happiness Report dataset \n",
    "*Analysis description, conclusions*"
   ]
  },
  {
   "cell_type": "markdown",
   "id": "35984903-46dc-4fbc-b3c3-e4db0df95b7e",
   "metadata": {},
   "source": [
    "*The work was done by Galina Galstyan and Khachatur Nersisyan*"
   ]
  },
  {
   "cell_type": "markdown",
   "id": "5b4614da-0fe1-4117-b187-5afc4364b052",
   "metadata": {
    "tags": []
   },
   "source": [
    "  - **Data Preprocessing**\n",
    "  \n",
    "From https://www.kaggle.com/datasets/unsdsn/world-happiness?select=2019.csv selecting the World Happiness Report from the website, we went through data preprocessing work.\n",
    "The data is for 155 countries, in order to analyze the years, we downloaded 5 files for the years 2015-2019, in which the columns had some differences.\n",
    "At this stage, we adjusted the names of the columns and united the files in one common table, carried out the necessary actions for the quality work of the subsequent stages.\n",
    "\n",
    " The main work of this part was done by Khachatur"
   ]
  },
  {
   "cell_type": "markdown",
   "id": "2487cb73-c8bc-4dcd-8293-ea0c4e3bedb5",
   "metadata": {},
   "source": [
    " - **Hypothesis**\n",
    "\n",
    "Before starting the analysis, we put these questions.\n",
    " - To what extent do the factors affect the Happiness rating? Is the relationship between Happiness score and GDP positive?\n",
    " - To find out which parts of the world have higher happiness ratings.\n",
    " - To observe if the factors affecting happiness have changed their part in the evaluation according to years.\n",
    " - Does the happiness rating according to GDP in our region differ much from each other?\n",
    " - Find out which country in our region was the leader in that score by years․\n",
    " - Find out the change of each factor for Armenia by years․\n",
    " - Find out which country was the leader in Happiness Score each year\n",
    " \n",
    "Hypotheses were proposed jointly by 2 members"
   ]
  },
  {
   "cell_type": "markdown",
   "id": "580f0b90-b0e0-4c7c-b7eb-7968543ff5f1",
   "metadata": {
    "tags": []
   },
   "source": [
    " - **Data visualisations**\n",
    " \n",
    "The Dash tool was used to construct the graphs․\n",
    "\n",
    "Following the hypotheses set before us, we made the following Visualizations․\n",
    "\n",
    " 1. Country Specific Dashboard interactive visualization shows the Happiness score by year for the selected country and the trend of other factors. (Visualized by Khachatur)\n",
    " 2.  Geographical map, to see and understand the general picture by years.Results. As can be seen from the map, the brighter yellow the image of the country is, the higher the level of Happiness in that country, the darker it is, the lower it is. As we can see from the diagram, the American continent, particularly North America, Canada, the Australian continent and the countries of Northern Europe have a rather high index. And as the map shows, although the overall picture has not undergone major changes in terms of countries, the Happiness score has generally decreased over the years.  (Visualized by Khachatur)\n",
    " 3.  Chart of happiness bubbles vs. GDP : Bubbles with their happy colors emphasize the connection between these two indicators, and as can be seen from the result, the connection is positive, high GDP affects the happiness of the population.(Visualized by Khachatur)\n",
    " 4. Factors Contributing to Happiness - Line Chart. Another interesting tool for describing the trend of each factor is to show how the factors have decreased by year.(Visualized by Khachatur)\n",
    " 5. Correlation Heatmap - Factors with Happiness Score, one of the classic and good tools for highlighting the relationship between the happiness score and other factors.(Visualized by Khachatur)\n",
    " 6. Happiness score by selected countries and years. For this visualization, the countries of our region were considered according to the GDP index, and as we saw in the previous graphs that GDP has a great role in people's happiness, so the picture in the region was as follows: in 2015, Russia is the first, followed by Turkey, Azerbaijan , Iran, Armenia are in the penultimate position, and Georgia is at the end. Of course, the results have been changed according to the results, choosing any of our years, we will see the result for that time. (Visualized by Galina)\n",
    " 7. Happiness Score by selected countries and years - This is how we can compare the trend of Happiness Score between selected regions, below there is an opportunity to remove the countries that we do not want to compare. Armenia and Georgia being in low positions in the region, they almost equalized in the end, Iran also dropped to the same rating.(Visualized by Galina)\n",
    " 8. Indicators for Armenia: To study only the results of Armenia, we took the Bar Plot tool, and by selecting the factor we want above, we can compare the indicators by years.(Visualized by Galina)\n",
    " 9. Happiness Score for the country with the highest score: textual visualization that allows you to clearly see which country is the leader in the year we choose․The countries of Northern Europe are the leaders in the world.(Visualized by Galina)"
   ]
  },
  {
   "cell_type": "markdown",
   "id": "8a572398-5b82-4710-9633-54345e5d02af",
   "metadata": {
    "tags": []
   },
   "source": [
    " - Canvas\n",
    " \n",
    " (by Galina)"
   ]
  },
  {
   "cell_type": "markdown",
   "id": "1b9eb1b2-01d6-40cc-bf73-9d6c0d1e7dd9",
   "metadata": {},
   "source": [
    " - Summary/conclusions\n",
    " \n",
    " The evaluation of happiness is an important indicator for research in social fields, development of strategies, etc.\n",
    "It has a lot to do with such factors as GDP, also with family and health.\n",
    "Northern Europe, particularly the Scandinavian countries of Finland, Norway, Denmark, Switzerland, have high indicators from this assessment, however, we know that the society in those countries pays very high personal income taxes.\n",
    "\n",
    "We also saw that the indicator has decreased significantly over the years at the level of the whole world․\n",
    "\n",
    "And we also found out the position of Armenia in the region, as well as we saw the changes in indicators for Armenia, and we saw that some factors were higher in 2017 than before and after.\n"
   ]
  },
  {
   "cell_type": "code",
   "execution_count": null,
   "id": "c66cbdb7-a4f9-4c3d-aea4-6bb08e5cf7ef",
   "metadata": {},
   "outputs": [],
   "source": []
  },
  {
   "cell_type": "code",
   "execution_count": null,
   "id": "1939333f-7227-43c1-bcf8-88dd9e46ca48",
   "metadata": {},
   "outputs": [],
   "source": []
  }
 ],
 "metadata": {
  "kernelspec": {
   "display_name": "Python 3 (ipykernel)",
   "language": "python",
   "name": "python3"
  },
  "language_info": {
   "codemirror_mode": {
    "name": "ipython",
    "version": 3
   },
   "file_extension": ".py",
   "mimetype": "text/x-python",
   "name": "python",
   "nbconvert_exporter": "python",
   "pygments_lexer": "ipython3",
   "version": "3.11.4"
  }
 },
 "nbformat": 4,
 "nbformat_minor": 5
}
